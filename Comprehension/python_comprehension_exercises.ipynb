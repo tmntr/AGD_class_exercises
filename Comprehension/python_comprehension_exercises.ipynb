{
 "cells": [
  {
   "cell_type": "markdown",
   "id": "f5f44608",
   "metadata": {},
   "source": [
    "# Python Comprehension Exercises\n",
    "This worksheet contains intermediate and advanced exercises using **list**, **dictionary**, and **set comprehensions** in Python. Each section includes original tasks and harder variations to challenge your understanding."
   ]
  },
  {
   "cell_type": "markdown",
   "id": "0500a102",
   "metadata": {},
   "source": [
    "## List Comprehension Exercises\n",
    "These exercises focus on creating and manipulating lists using comprehension syntax."
   ]
  },
  {
   "metadata": {},
   "cell_type": "markdown",
   "source": "### Starter Exercises",
   "id": "b047d81be5a6fb30"
  },
  {
   "metadata": {
    "ExecuteTime": {
     "end_time": "2025-09-25T09:32:38.227260Z",
     "start_time": "2025-09-25T09:32:38.206030Z"
    }
   },
   "cell_type": "code",
   "source": [
    "from certifi import where\n",
    "\n",
    "# 1. Create a list of the first 20 square numbers\n",
    "squares = [i**2 for i in range(1,21)]\n",
    "print(squares)"
   ],
   "id": "89a0d8f56783b0f0",
   "outputs": [
    {
     "name": "stdout",
     "output_type": "stream",
     "text": [
      "[1, 4, 9, 16, 25, 36, 49, 64, 81, 100, 121, 144, 169, 196, 225, 256, 289, 324, 361, 400]\n"
     ]
    }
   ],
   "execution_count": 4
  },
  {
   "metadata": {
    "ExecuteTime": {
     "end_time": "2025-09-25T09:32:39.977443Z",
     "start_time": "2025-09-25T09:32:39.971678Z"
    }
   },
   "cell_type": "code",
   "source": [
    "# 2. Create a list of the first 20 square numbers that are divisible by 3\n",
    "squares = [(i*3)**2 for i in range(1,21)]\n",
    "print(squares)"
   ],
   "id": "910cc1990b4bc4f8",
   "outputs": [
    {
     "name": "stdout",
     "output_type": "stream",
     "text": [
      "[9, 36, 81, 144, 225, 324, 441, 576, 729, 900, 1089, 1296, 1521, 1764, 2025, 2304, 2601, 2916, 3249, 3600]\n"
     ]
    }
   ],
   "execution_count": 5
  },
  {
   "metadata": {
    "ExecuteTime": {
     "end_time": "2025-09-26T10:17:26.630481Z",
     "start_time": "2025-09-26T10:17:26.606632Z"
    }
   },
   "cell_type": "code",
   "source": [
    "# 3. Create a list representing the lengths of the words in the animals list\n",
    "animals = ['cat', 'elephant', 'rabbit', 'turkey', 'lion']\n",
    "animal_lengths = [len(animal) for animal in animals]\n",
    "print(animal_lengths)"
   ],
   "id": "6f576fa14ef4ddb2",
   "outputs": [
    {
     "name": "stdout",
     "output_type": "stream",
     "text": [
      "[3, 8, 6, 6, 4]\n"
     ]
    }
   ],
   "execution_count": 1
  },
  {
   "metadata": {},
   "cell_type": "markdown",
   "source": "### Intermediate Exercises",
   "id": "be3e9465"
  },
  {
   "metadata": {
    "ExecuteTime": {
     "end_time": "2025-09-25T09:34:16.109238Z",
     "start_time": "2025-09-25T09:34:16.101587Z"
    }
   },
   "cell_type": "code",
   "source": [
    "# 1. Flatten a Nested List\n",
    "nested = [[1, 2], [3, 4], [5], [6, 7, 8, 9]]\n",
    "flat = [nestnum for nestlist in nested for nestnum in nestlist]\n",
    "print(flat)"
   ],
   "id": "9fb34ba6",
   "outputs": [
    {
     "name": "stdout",
     "output_type": "stream",
     "text": [
      "[1, 2, 3, 4, 5, 6, 7, 8, 9]\n"
     ]
    }
   ],
   "execution_count": 8
  },
  {
   "metadata": {
    "ExecuteTime": {
     "end_time": "2025-09-25T09:34:49.964603Z",
     "start_time": "2025-09-25T09:34:49.955581Z"
    }
   },
   "cell_type": "code",
   "source": [
    "# 2. Generate a List of Tuples (Number, Square, Cube) for numbers 1 to 10\n",
    "result = [(item,item**2,item**3) for item in range(1,10)]\n",
    "print(result)"
   ],
   "id": "c50f1143",
   "outputs": [
    {
     "name": "stdout",
     "output_type": "stream",
     "text": [
      "[(1, 1, 1), (2, 4, 8), (3, 9, 27), (4, 16, 64), (5, 25, 125), (6, 36, 216), (7, 49, 343), (8, 64, 512), (9, 81, 729)]\n"
     ]
    }
   ],
   "execution_count": 10
  },
  {
   "metadata": {
    "ExecuteTime": {
     "end_time": "2025-09-26T10:18:12.864585Z",
     "start_time": "2025-09-26T10:18:12.861372Z"
    }
   },
   "cell_type": "code",
   "source": [
    "# 3. Generate a List of coordinate pairs (i, j) where i and j are numbers from 1 to 10\n",
    "coordinates = [(i,j) for i in range(1,11) for j in range(1,11)]\n",
    "print(coordinates)"
   ],
   "id": "c5655c799dca457a",
   "outputs": [
    {
     "name": "stdout",
     "output_type": "stream",
     "text": [
      "[(1, 1), (1, 2), (1, 3), (1, 4), (1, 5), (1, 6), (1, 7), (1, 8), (1, 9), (1, 10), (2, 1), (2, 2), (2, 3), (2, 4), (2, 5), (2, 6), (2, 7), (2, 8), (2, 9), (2, 10), (3, 1), (3, 2), (3, 3), (3, 4), (3, 5), (3, 6), (3, 7), (3, 8), (3, 9), (3, 10), (4, 1), (4, 2), (4, 3), (4, 4), (4, 5), (4, 6), (4, 7), (4, 8), (4, 9), (4, 10), (5, 1), (5, 2), (5, 3), (5, 4), (5, 5), (5, 6), (5, 7), (5, 8), (5, 9), (5, 10), (6, 1), (6, 2), (6, 3), (6, 4), (6, 5), (6, 6), (6, 7), (6, 8), (6, 9), (6, 10), (7, 1), (7, 2), (7, 3), (7, 4), (7, 5), (7, 6), (7, 7), (7, 8), (7, 9), (7, 10), (8, 1), (8, 2), (8, 3), (8, 4), (8, 5), (8, 6), (8, 7), (8, 8), (8, 9), (8, 10), (9, 1), (9, 2), (9, 3), (9, 4), (9, 5), (9, 6), (9, 7), (9, 8), (9, 9), (9, 10), (10, 1), (10, 2), (10, 3), (10, 4), (10, 5), (10, 6), (10, 7), (10, 8), (10, 9), (10, 10)]\n"
     ]
    }
   ],
   "execution_count": 2
  },
  {
   "cell_type": "markdown",
   "id": "a93517b1",
   "metadata": {},
   "source": [
    "### Advanced Variations"
   ]
  },
  {
   "cell_type": "code",
   "id": "5c7faea7",
   "metadata": {
    "ExecuteTime": {
     "end_time": "2025-09-26T10:22:06.678683Z",
     "start_time": "2025-09-26T10:22:06.530857Z"
    }
   },
   "source": [
    "# 1. Generate a List of Pythagorean Triplets (a, b, c) with a + b + c = 1000\n",
    "triplets = [(a,b,(a**2+b**2)**0.5) for a in range(1000) for b in range(1000) if a+b+(a**2+b**2)**0.5 == 1000]\n",
    "print(triplets)"
   ],
   "outputs": [
    {
     "name": "stdout",
     "output_type": "stream",
     "text": [
      "[(0, 500, 500.0), (200, 375, 425.0), (375, 200, 425.0), (500, 0, 500.0)]\n"
     ]
    }
   ],
   "execution_count": 4
  },
  {
   "cell_type": "markdown",
   "id": "9daf2cd9",
   "metadata": {},
   "source": [
    "## 📘 Dictionary Comprehension Exercises\n",
    "These exercises focus on creating and transforming dictionaries using comprehension syntax."
   ]
  },
  {
   "metadata": {},
   "cell_type": "markdown",
   "source": "### Starter Exercises",
   "id": "b5a42dd8c4703b05"
  },
  {
   "metadata": {
    "ExecuteTime": {
     "end_time": "2025-09-26T10:22:47.207799Z",
     "start_time": "2025-09-26T10:22:47.204067Z"
    }
   },
   "cell_type": "code",
   "source": [
    "# 1. Create a dictionary with the animals names as the key and the lengths of the names as the values\n",
    "animals = ['cat', 'elephant', 'rabbit', 'turkey', 'lion']\n",
    "animal_dictionary = {animal:len(animal) for animal in animals}\n",
    "print(animal_dictionary)"
   ],
   "id": "86baa26bd61ed602",
   "outputs": [
    {
     "name": "stdout",
     "output_type": "stream",
     "text": [
      "{'cat': 3, 'elephant': 8, 'rabbit': 6, 'turkey': 6, 'lion': 4}\n"
     ]
    }
   ],
   "execution_count": 6
  },
  {
   "metadata": {},
   "cell_type": "code",
   "source": [
    "# 2. Create a dictionary where the keys are the numbers 1 to 10 and the values are strings '10' to '1'\n",
    "number_dict = {i:str(i) for i in range(1,11)}\n",
    "print(number_dict)"
   ],
   "id": "b22f7b7016ff4c72",
   "outputs": [],
   "execution_count": null
  },
  {
   "metadata": {},
   "cell_type": "markdown",
   "source": "### Intermediate Exercises",
   "id": "9acf027b"
  },
  {
   "metadata": {
    "ExecuteTime": {
     "end_time": "2025-09-26T10:24:56.986786Z",
     "start_time": "2025-09-26T10:24:56.983477Z"
    }
   },
   "cell_type": "code",
   "source": [
    "# 1. Invert a Dictionary so that keys become values and values become keys\n",
    "original = {'a': 1, 'b': 2, 'c': 3}\n",
    "inverted = {original[keyitem]:keyitem for keyitem in original}\n",
    "print(inverted)"
   ],
   "id": "f2babe14",
   "outputs": [
    {
     "name": "stdout",
     "output_type": "stream",
     "text": [
      "{1: 'a', 2: 'b', 3: 'c'}\n"
     ]
    }
   ],
   "execution_count": 7
  },
  {
   "metadata": {
    "ExecuteTime": {
     "end_time": "2025-09-26T10:55:31.790737Z",
     "start_time": "2025-09-26T10:55:31.787607Z"
    }
   },
   "cell_type": "code",
   "source": [
    "# 2. Count Character Frequency in a String\n",
    "text = \"intermediate comprehension\"\n",
    "freq = {char:text.count(char) for char in text}\n",
    "print(freq)"
   ],
   "id": "145986c9",
   "outputs": [
    {
     "name": "stdout",
     "output_type": "stream",
     "text": [
      "{'i': 3, 'n': 3, 't': 2, 'e': 5, 'r': 2, 'm': 2, 'd': 1, 'a': 1, ' ': 1, 'c': 1, 'o': 2, 'p': 1, 'h': 1, 's': 1}\n"
     ]
    }
   ],
   "execution_count": 39
  },
  {
   "metadata": {
    "ExecuteTime": {
     "end_time": "2025-09-26T10:40:02.108857Z",
     "start_time": "2025-09-26T10:40:02.105218Z"
    }
   },
   "cell_type": "code",
   "source": [
    "# 3. Map Numbers to Their Binary Representation for numbers one to 20 - e.g. {1: '1', 2: '10', ...}\n",
    "# Hint bin(5) gives the string '0b101'\n",
    "binary_map = {i:str(bin(i)) for i in range(1,21)}\n",
    "print(binary_map)"
   ],
   "id": "186bf29e",
   "outputs": [
    {
     "name": "stdout",
     "output_type": "stream",
     "text": [
      "{1: '0b1', 2: '0b10', 3: '0b11', 4: '0b100', 5: '0b101', 6: '0b110', 7: '0b111', 8: '0b1000', 9: '0b1001', 10: '0b1010', 11: '0b1011', 12: '0b1100', 13: '0b1101', 14: '0b1110', 15: '0b1111', 16: '0b10000', 17: '0b10001', 18: '0b10010', 19: '0b10011', 20: '0b10100'}\n"
     ]
    }
   ],
   "execution_count": 15
  },
  {
   "metadata": {},
   "cell_type": "markdown",
   "source": "### Advanced Variations",
   "id": "7d75e2f8"
  },
  {
   "metadata": {},
   "cell_type": "code",
   "source": [
    "# 1. Group Words by Their Length - e.g. {3: ['fig'], 5: ['apple', 'peach', 'grape'] , ...}\n",
    "words = [\"apple\", \"banana\", \"cherry\", \"peach\", \"fig\", \"grape\"]\n",
    "grouped = {}\n",
    "print(grouped)"
   ],
   "id": "77213365",
   "outputs": [],
   "execution_count": null
  },
  {
   "cell_type": "markdown",
   "id": "fb967ace",
   "metadata": {},
   "source": [
    "## 🧮 Set Comprehension Exercises\n",
    "These exercises focus on extracting and manipulating sets using comprehension syntax."
   ]
  },
  {
   "metadata": {},
   "cell_type": "markdown",
   "source": "### Starter Exercises",
   "id": "b9d9dab14bf4a86f"
  },
  {
   "metadata": {
    "ExecuteTime": {
     "end_time": "2025-09-26T10:42:29.975729Z",
     "start_time": "2025-09-26T10:42:29.972227Z"
    }
   },
   "cell_type": "code",
   "source": [
    "# 1. Extract the set of characters from this word using a list comprehension\n",
    "# Note that this is equivalent to set(word)\n",
    "word = 'abracadabra'\n",
    "letters = {char for char in word}\n",
    "print(letters)"
   ],
   "id": "7dfc90f55c3df880",
   "outputs": [
    {
     "name": "stdout",
     "output_type": "stream",
     "text": [
      "{'c', 'a', 'b', 'd', 'r'}\n"
     ]
    }
   ],
   "execution_count": 19
  },
  {
   "metadata": {
    "ExecuteTime": {
     "end_time": "2025-09-26T10:43:37.262375Z",
     "start_time": "2025-09-26T10:43:37.259119Z"
    }
   },
   "cell_type": "code",
   "source": [
    "# 2. Extract the set of even numbers from the numbers in the list\n",
    "numbers = [6, 4, 2, 3, 5, 4, 6, 8, 2, 5, 7]\n",
    "even_number_set = {numberymcnumberface for numberymcnumberface in numbers if numberymcnumberface % 2 == 0}\n",
    "print(even_number_set)"
   ],
   "id": "5145df1f4b10d85f",
   "outputs": [
    {
     "name": "stdout",
     "output_type": "stream",
     "text": [
      "{8, 2, 4, 6}\n"
     ]
    }
   ],
   "execution_count": 20
  },
  {
   "metadata": {},
   "cell_type": "markdown",
   "source": "### Intermediate Exercises",
   "id": "78a2fe2a"
  },
  {
   "metadata": {
    "ExecuteTime": {
     "end_time": "2025-09-26T10:44:45.363098Z",
     "start_time": "2025-09-26T10:44:45.359723Z"
    }
   },
   "cell_type": "code",
   "source": [
    "# 1. Extract Unique Vowels from a Sentence\n",
    "sentence = \"Python comprehensions are powerful\"\n",
    "vowels = {char for char in sentence if char.lower() in 'aeiou'}\n",
    "print(vowels)"
   ],
   "id": "b4a25eb6",
   "outputs": [
    {
     "name": "stdout",
     "output_type": "stream",
     "text": [
      "{'a', 'i', 'e', 'u', 'o'}\n"
     ]
    }
   ],
   "execution_count": 21
  },
  {
   "metadata": {
    "ExecuteTime": {
     "end_time": "2025-09-26T10:45:11.656100Z",
     "start_time": "2025-09-26T10:45:11.652548Z"
    }
   },
   "cell_type": "code",
   "source": [
    "# 2. Find Common Elements in Two Lists using a list comprehension\n",
    "# Note that set(a) & set(b) will also achieve this\n",
    "a = [1, 2, 3, 4, 5]\n",
    "b = [4, 5, 6, 7]\n",
    "common = {num for num in a if a in b}\n",
    "print(common)"
   ],
   "id": "4839dffb",
   "outputs": [
    {
     "name": "stdout",
     "output_type": "stream",
     "text": [
      "set()\n"
     ]
    }
   ],
   "execution_count": 22
  },
  {
   "metadata": {},
   "cell_type": "markdown",
   "source": "### Advanced Variations",
   "id": "cdb058fc"
  },
  {
   "metadata": {
    "ExecuteTime": {
     "end_time": "2025-09-26T10:38:35.355360Z",
     "start_time": "2025-09-26T10:38:35.351937Z"
    }
   },
   "cell_type": "code",
   "source": [
    "# 3. Find All Unique Characters That Appear More Than Once in a String\n",
    "s = \"comprehension_challenge\"\n",
    "#repeated = {char for char in s if (char in s[s.index(char)+1:])}\n",
    "repeated = {char for char in s if (char in s[s.index(char)+1:])}\n",
    "print(repeated)"
   ],
   "id": "7a0817d1",
   "outputs": [
    {
     "name": "stdout",
     "output_type": "stream",
     "text": [
      "{'c', 'l', 'e', 'h', 'n', 'o'}\n"
     ]
    }
   ],
   "execution_count": 14
  },
  {
   "metadata": {
    "ExecuteTime": {
     "end_time": "2025-09-26T10:48:16.964279Z",
     "start_time": "2025-09-26T10:48:16.960834Z"
    }
   },
   "cell_type": "code",
   "source": [
    "# 1. Find All Unique Words in Two Paragraphs That Are Not Shared\n",
    "# Note that you can do this by using the xor operator (^) on the sets of wor\n",
    "para1 = \"Python is great for data science and machine learning\"\n",
    "para2 = \"JavaScript is great for web development and frontend design\"\n",
    "unique = {word for word in (' '.join([para1,para2])).split(' ') if (word in para1)^(word in para2)}\n",
    "print(unique)"
   ],
   "id": "89449dd3",
   "outputs": [
    {
     "name": "stdout",
     "output_type": "stream",
     "text": [
      "{'frontend', 'design', 'Python', 'machine', 'learning', 'development', 'data', 'JavaScript', 'web', 'science'}\n"
     ]
    }
   ],
   "execution_count": 26
  }
 ],
 "metadata": {
  "kernelspec": {
   "name": "python3",
   "language": "python",
   "display_name": "Python 3 (ipykernel)"
  }
 },
 "nbformat": 4,
 "nbformat_minor": 5
}
